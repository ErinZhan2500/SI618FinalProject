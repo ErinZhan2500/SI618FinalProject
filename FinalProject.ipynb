{
 "cells": [
  {
   "cell_type": "code",
   "execution_count": 311,
   "metadata": {},
   "outputs": [],
   "source": [
    "import seaborn as sns\n",
    "import pandas as pd\n",
    "import matplotlib.pyplot as plt\n",
    "\n",
    "import warnings\n",
    "warnings.filterwarnings('ignore')"
   ]
  },
  {
   "cell_type": "markdown",
   "metadata": {},
   "source": [
    "# Reading and Previewing Data"
   ]
  },
  {
   "cell_type": "code",
   "execution_count": 312,
   "metadata": {},
   "outputs": [
    {
     "data": {
      "text/html": [
       "<div>\n",
       "<style scoped>\n",
       "    .dataframe tbody tr th:only-of-type {\n",
       "        vertical-align: middle;\n",
       "    }\n",
       "\n",
       "    .dataframe tbody tr th {\n",
       "        vertical-align: top;\n",
       "    }\n",
       "\n",
       "    .dataframe thead th {\n",
       "        text-align: right;\n",
       "    }\n",
       "</style>\n",
       "<table border=\"1\" class=\"dataframe\">\n",
       "  <thead>\n",
       "    <tr style=\"text-align: right;\">\n",
       "      <th></th>\n",
       "      <th>rank</th>\n",
       "      <th>finalWorth</th>\n",
       "      <th>category</th>\n",
       "      <th>personName</th>\n",
       "      <th>age</th>\n",
       "      <th>country</th>\n",
       "      <th>city</th>\n",
       "      <th>source</th>\n",
       "      <th>industries</th>\n",
       "      <th>countryOfCitizenship</th>\n",
       "      <th>...</th>\n",
       "      <th>cpi_change_country</th>\n",
       "      <th>gdp_country</th>\n",
       "      <th>gross_tertiary_education_enrollment</th>\n",
       "      <th>gross_primary_education_enrollment_country</th>\n",
       "      <th>life_expectancy_country</th>\n",
       "      <th>tax_revenue_country_country</th>\n",
       "      <th>total_tax_rate_country</th>\n",
       "      <th>population_country</th>\n",
       "      <th>latitude_country</th>\n",
       "      <th>longitude_country</th>\n",
       "    </tr>\n",
       "  </thead>\n",
       "  <tbody>\n",
       "    <tr>\n",
       "      <th>0</th>\n",
       "      <td>1</td>\n",
       "      <td>211000</td>\n",
       "      <td>Fashion &amp; Retail</td>\n",
       "      <td>Bernard Arnault &amp; family</td>\n",
       "      <td>74.0</td>\n",
       "      <td>France</td>\n",
       "      <td>Paris</td>\n",
       "      <td>LVMH</td>\n",
       "      <td>Fashion &amp; Retail</td>\n",
       "      <td>France</td>\n",
       "      <td>...</td>\n",
       "      <td>1.1</td>\n",
       "      <td>$2,715,518,274,227</td>\n",
       "      <td>65.6</td>\n",
       "      <td>102.5</td>\n",
       "      <td>82.5</td>\n",
       "      <td>24.2</td>\n",
       "      <td>60.7</td>\n",
       "      <td>67059887.0</td>\n",
       "      <td>46.227638</td>\n",
       "      <td>2.213749</td>\n",
       "    </tr>\n",
       "    <tr>\n",
       "      <th>1</th>\n",
       "      <td>2</td>\n",
       "      <td>180000</td>\n",
       "      <td>Automotive</td>\n",
       "      <td>Elon Musk</td>\n",
       "      <td>51.0</td>\n",
       "      <td>United States</td>\n",
       "      <td>Austin</td>\n",
       "      <td>Tesla, SpaceX</td>\n",
       "      <td>Automotive</td>\n",
       "      <td>United States</td>\n",
       "      <td>...</td>\n",
       "      <td>7.5</td>\n",
       "      <td>$21,427,700,000,000</td>\n",
       "      <td>88.2</td>\n",
       "      <td>101.8</td>\n",
       "      <td>78.5</td>\n",
       "      <td>9.6</td>\n",
       "      <td>36.6</td>\n",
       "      <td>328239523.0</td>\n",
       "      <td>37.090240</td>\n",
       "      <td>-95.712891</td>\n",
       "    </tr>\n",
       "    <tr>\n",
       "      <th>2</th>\n",
       "      <td>3</td>\n",
       "      <td>114000</td>\n",
       "      <td>Technology</td>\n",
       "      <td>Jeff Bezos</td>\n",
       "      <td>59.0</td>\n",
       "      <td>United States</td>\n",
       "      <td>Medina</td>\n",
       "      <td>Amazon</td>\n",
       "      <td>Technology</td>\n",
       "      <td>United States</td>\n",
       "      <td>...</td>\n",
       "      <td>7.5</td>\n",
       "      <td>$21,427,700,000,000</td>\n",
       "      <td>88.2</td>\n",
       "      <td>101.8</td>\n",
       "      <td>78.5</td>\n",
       "      <td>9.6</td>\n",
       "      <td>36.6</td>\n",
       "      <td>328239523.0</td>\n",
       "      <td>37.090240</td>\n",
       "      <td>-95.712891</td>\n",
       "    </tr>\n",
       "    <tr>\n",
       "      <th>3</th>\n",
       "      <td>4</td>\n",
       "      <td>107000</td>\n",
       "      <td>Technology</td>\n",
       "      <td>Larry Ellison</td>\n",
       "      <td>78.0</td>\n",
       "      <td>United States</td>\n",
       "      <td>Lanai</td>\n",
       "      <td>Oracle</td>\n",
       "      <td>Technology</td>\n",
       "      <td>United States</td>\n",
       "      <td>...</td>\n",
       "      <td>7.5</td>\n",
       "      <td>$21,427,700,000,000</td>\n",
       "      <td>88.2</td>\n",
       "      <td>101.8</td>\n",
       "      <td>78.5</td>\n",
       "      <td>9.6</td>\n",
       "      <td>36.6</td>\n",
       "      <td>328239523.0</td>\n",
       "      <td>37.090240</td>\n",
       "      <td>-95.712891</td>\n",
       "    </tr>\n",
       "    <tr>\n",
       "      <th>4</th>\n",
       "      <td>5</td>\n",
       "      <td>106000</td>\n",
       "      <td>Finance &amp; Investments</td>\n",
       "      <td>Warren Buffett</td>\n",
       "      <td>92.0</td>\n",
       "      <td>United States</td>\n",
       "      <td>Omaha</td>\n",
       "      <td>Berkshire Hathaway</td>\n",
       "      <td>Finance &amp; Investments</td>\n",
       "      <td>United States</td>\n",
       "      <td>...</td>\n",
       "      <td>7.5</td>\n",
       "      <td>$21,427,700,000,000</td>\n",
       "      <td>88.2</td>\n",
       "      <td>101.8</td>\n",
       "      <td>78.5</td>\n",
       "      <td>9.6</td>\n",
       "      <td>36.6</td>\n",
       "      <td>328239523.0</td>\n",
       "      <td>37.090240</td>\n",
       "      <td>-95.712891</td>\n",
       "    </tr>\n",
       "  </tbody>\n",
       "</table>\n",
       "<p>5 rows × 35 columns</p>\n",
       "</div>"
      ],
      "text/plain": [
       "   rank  finalWorth               category                personName   age  \\\n",
       "0     1      211000       Fashion & Retail  Bernard Arnault & family  74.0   \n",
       "1     2      180000             Automotive                 Elon Musk  51.0   \n",
       "2     3      114000             Technology                Jeff Bezos  59.0   \n",
       "3     4      107000             Technology             Larry Ellison  78.0   \n",
       "4     5      106000  Finance & Investments            Warren Buffett  92.0   \n",
       "\n",
       "         country    city              source             industries  \\\n",
       "0         France   Paris                LVMH       Fashion & Retail   \n",
       "1  United States  Austin       Tesla, SpaceX             Automotive   \n",
       "2  United States  Medina              Amazon             Technology   \n",
       "3  United States   Lanai              Oracle             Technology   \n",
       "4  United States   Omaha  Berkshire Hathaway  Finance & Investments   \n",
       "\n",
       "  countryOfCitizenship  ... cpi_change_country           gdp_country  \\\n",
       "0               France  ...                1.1   $2,715,518,274,227    \n",
       "1        United States  ...                7.5  $21,427,700,000,000    \n",
       "2        United States  ...                7.5  $21,427,700,000,000    \n",
       "3        United States  ...                7.5  $21,427,700,000,000    \n",
       "4        United States  ...                7.5  $21,427,700,000,000    \n",
       "\n",
       "  gross_tertiary_education_enrollment  \\\n",
       "0                                65.6   \n",
       "1                                88.2   \n",
       "2                                88.2   \n",
       "3                                88.2   \n",
       "4                                88.2   \n",
       "\n",
       "  gross_primary_education_enrollment_country life_expectancy_country  \\\n",
       "0                                      102.5                    82.5   \n",
       "1                                      101.8                    78.5   \n",
       "2                                      101.8                    78.5   \n",
       "3                                      101.8                    78.5   \n",
       "4                                      101.8                    78.5   \n",
       "\n",
       "  tax_revenue_country_country total_tax_rate_country population_country  \\\n",
       "0                        24.2                   60.7         67059887.0   \n",
       "1                         9.6                   36.6        328239523.0   \n",
       "2                         9.6                   36.6        328239523.0   \n",
       "3                         9.6                   36.6        328239523.0   \n",
       "4                         9.6                   36.6        328239523.0   \n",
       "\n",
       "  latitude_country longitude_country  \n",
       "0        46.227638          2.213749  \n",
       "1        37.090240        -95.712891  \n",
       "2        37.090240        -95.712891  \n",
       "3        37.090240        -95.712891  \n",
       "4        37.090240        -95.712891  \n",
       "\n",
       "[5 rows x 35 columns]"
      ]
     },
     "execution_count": 312,
     "metadata": {},
     "output_type": "execute_result"
    }
   ],
   "source": [
    "billionaires = pd.read_csv('Billionaires Statistics Dataset.csv')\n",
    "billionaires.head()"
   ]
  },
  {
   "cell_type": "code",
   "execution_count": 313,
   "metadata": {},
   "outputs": [
    {
     "data": {
      "text/plain": [
       "Index(['rank', 'finalWorth', 'category', 'personName', 'age', 'country',\n",
       "       'city', 'source', 'industries', 'countryOfCitizenship', 'organization',\n",
       "       'selfMade', 'status', 'gender', 'birthDate', 'lastName', 'firstName',\n",
       "       'title', 'date', 'state', 'residenceStateRegion', 'birthYear',\n",
       "       'birthMonth', 'birthDay', 'cpi_country', 'cpi_change_country',\n",
       "       'gdp_country', 'gross_tertiary_education_enrollment',\n",
       "       'gross_primary_education_enrollment_country', 'life_expectancy_country',\n",
       "       'tax_revenue_country_country', 'total_tax_rate_country',\n",
       "       'population_country', 'latitude_country', 'longitude_country'],\n",
       "      dtype='object')"
      ]
     },
     "execution_count": 313,
     "metadata": {},
     "output_type": "execute_result"
    }
   ],
   "source": [
    "billionaires.columns"
   ]
  },
  {
   "cell_type": "code",
   "execution_count": 314,
   "metadata": {},
   "outputs": [],
   "source": [
    "# which one's are we interested in?\n",
    "interested = ['rank', 'finalWorth', 'category', 'personName', 'age', 'country',\n",
    "       'city', 'industries', 'countryOfCitizenship',\n",
    "       'selfMade', 'status', 'gender', 'state',\n",
    "       'residenceStateRegion', 'cpi_country', 'cpi_change_country',\n",
    "       'gdp_country', 'gross_tertiary_education_enrollment',\n",
    "       'gross_primary_education_enrollment_country', 'life_expectancy_country',\n",
    "       'tax_revenue_country_country', 'total_tax_rate_country',\n",
    "       'population_country']\n",
    "billionaires = billionaires[interested]"
   ]
  },
  {
   "cell_type": "code",
   "execution_count": 315,
   "metadata": {},
   "outputs": [
    {
     "data": {
      "text/plain": [
       "(2640, 23)"
      ]
     },
     "execution_count": 315,
     "metadata": {},
     "output_type": "execute_result"
    }
   ],
   "source": [
    "billionaires.shape"
   ]
  },
  {
   "cell_type": "code",
   "execution_count": 316,
   "metadata": {},
   "outputs": [
    {
     "data": {
      "text/html": [
       "<div>\n",
       "<style scoped>\n",
       "    .dataframe tbody tr th:only-of-type {\n",
       "        vertical-align: middle;\n",
       "    }\n",
       "\n",
       "    .dataframe tbody tr th {\n",
       "        vertical-align: top;\n",
       "    }\n",
       "\n",
       "    .dataframe thead th {\n",
       "        text-align: right;\n",
       "    }\n",
       "</style>\n",
       "<table border=\"1\" class=\"dataframe\">\n",
       "  <thead>\n",
       "    <tr style=\"text-align: right;\">\n",
       "      <th></th>\n",
       "      <th>rank</th>\n",
       "      <th>finalWorth</th>\n",
       "      <th>age</th>\n",
       "      <th>cpi_country</th>\n",
       "      <th>cpi_change_country</th>\n",
       "      <th>gross_tertiary_education_enrollment</th>\n",
       "      <th>gross_primary_education_enrollment_country</th>\n",
       "      <th>life_expectancy_country</th>\n",
       "      <th>tax_revenue_country_country</th>\n",
       "      <th>total_tax_rate_country</th>\n",
       "      <th>population_country</th>\n",
       "    </tr>\n",
       "  </thead>\n",
       "  <tbody>\n",
       "    <tr>\n",
       "      <th>count</th>\n",
       "      <td>2640.000000</td>\n",
       "      <td>2640.000000</td>\n",
       "      <td>2575.000000</td>\n",
       "      <td>2456.000000</td>\n",
       "      <td>2456.000000</td>\n",
       "      <td>2458.000000</td>\n",
       "      <td>2459.000000</td>\n",
       "      <td>2458.000000</td>\n",
       "      <td>2457.000000</td>\n",
       "      <td>2458.000000</td>\n",
       "      <td>2.476000e+03</td>\n",
       "    </tr>\n",
       "    <tr>\n",
       "      <th>mean</th>\n",
       "      <td>1289.159091</td>\n",
       "      <td>4623.787879</td>\n",
       "      <td>65.140194</td>\n",
       "      <td>127.755204</td>\n",
       "      <td>4.364169</td>\n",
       "      <td>67.225671</td>\n",
       "      <td>102.858520</td>\n",
       "      <td>78.122823</td>\n",
       "      <td>12.546235</td>\n",
       "      <td>43.963344</td>\n",
       "      <td>5.102053e+08</td>\n",
       "    </tr>\n",
       "    <tr>\n",
       "      <th>std</th>\n",
       "      <td>739.693726</td>\n",
       "      <td>9834.240939</td>\n",
       "      <td>13.258098</td>\n",
       "      <td>26.452951</td>\n",
       "      <td>3.623763</td>\n",
       "      <td>21.343426</td>\n",
       "      <td>4.710977</td>\n",
       "      <td>3.730099</td>\n",
       "      <td>5.368625</td>\n",
       "      <td>12.145296</td>\n",
       "      <td>5.542447e+08</td>\n",
       "    </tr>\n",
       "    <tr>\n",
       "      <th>min</th>\n",
       "      <td>1.000000</td>\n",
       "      <td>1000.000000</td>\n",
       "      <td>18.000000</td>\n",
       "      <td>99.550000</td>\n",
       "      <td>-1.900000</td>\n",
       "      <td>4.000000</td>\n",
       "      <td>84.700000</td>\n",
       "      <td>54.300000</td>\n",
       "      <td>0.100000</td>\n",
       "      <td>9.900000</td>\n",
       "      <td>3.801900e+04</td>\n",
       "    </tr>\n",
       "    <tr>\n",
       "      <th>25%</th>\n",
       "      <td>659.000000</td>\n",
       "      <td>1500.000000</td>\n",
       "      <td>56.000000</td>\n",
       "      <td>117.240000</td>\n",
       "      <td>1.700000</td>\n",
       "      <td>50.600000</td>\n",
       "      <td>100.200000</td>\n",
       "      <td>77.000000</td>\n",
       "      <td>9.600000</td>\n",
       "      <td>36.600000</td>\n",
       "      <td>6.683440e+07</td>\n",
       "    </tr>\n",
       "    <tr>\n",
       "      <th>50%</th>\n",
       "      <td>1312.000000</td>\n",
       "      <td>2300.000000</td>\n",
       "      <td>65.000000</td>\n",
       "      <td>117.240000</td>\n",
       "      <td>2.900000</td>\n",
       "      <td>65.600000</td>\n",
       "      <td>101.800000</td>\n",
       "      <td>78.500000</td>\n",
       "      <td>9.600000</td>\n",
       "      <td>41.200000</td>\n",
       "      <td>3.282395e+08</td>\n",
       "    </tr>\n",
       "    <tr>\n",
       "      <th>75%</th>\n",
       "      <td>1905.000000</td>\n",
       "      <td>4200.000000</td>\n",
       "      <td>75.000000</td>\n",
       "      <td>125.080000</td>\n",
       "      <td>7.500000</td>\n",
       "      <td>88.200000</td>\n",
       "      <td>102.600000</td>\n",
       "      <td>80.900000</td>\n",
       "      <td>12.800000</td>\n",
       "      <td>59.100000</td>\n",
       "      <td>1.366418e+09</td>\n",
       "    </tr>\n",
       "    <tr>\n",
       "      <th>max</th>\n",
       "      <td>2540.000000</td>\n",
       "      <td>211000.000000</td>\n",
       "      <td>101.000000</td>\n",
       "      <td>288.570000</td>\n",
       "      <td>53.500000</td>\n",
       "      <td>136.600000</td>\n",
       "      <td>142.100000</td>\n",
       "      <td>84.200000</td>\n",
       "      <td>37.200000</td>\n",
       "      <td>106.300000</td>\n",
       "      <td>1.397715e+09</td>\n",
       "    </tr>\n",
       "  </tbody>\n",
       "</table>\n",
       "</div>"
      ],
      "text/plain": [
       "              rank     finalWorth          age  cpi_country  \\\n",
       "count  2640.000000    2640.000000  2575.000000  2456.000000   \n",
       "mean   1289.159091    4623.787879    65.140194   127.755204   \n",
       "std     739.693726    9834.240939    13.258098    26.452951   \n",
       "min       1.000000    1000.000000    18.000000    99.550000   \n",
       "25%     659.000000    1500.000000    56.000000   117.240000   \n",
       "50%    1312.000000    2300.000000    65.000000   117.240000   \n",
       "75%    1905.000000    4200.000000    75.000000   125.080000   \n",
       "max    2540.000000  211000.000000   101.000000   288.570000   \n",
       "\n",
       "       cpi_change_country  gross_tertiary_education_enrollment  \\\n",
       "count         2456.000000                          2458.000000   \n",
       "mean             4.364169                            67.225671   \n",
       "std              3.623763                            21.343426   \n",
       "min             -1.900000                             4.000000   \n",
       "25%              1.700000                            50.600000   \n",
       "50%              2.900000                            65.600000   \n",
       "75%              7.500000                            88.200000   \n",
       "max             53.500000                           136.600000   \n",
       "\n",
       "       gross_primary_education_enrollment_country  life_expectancy_country  \\\n",
       "count                                 2459.000000              2458.000000   \n",
       "mean                                   102.858520                78.122823   \n",
       "std                                      4.710977                 3.730099   \n",
       "min                                     84.700000                54.300000   \n",
       "25%                                    100.200000                77.000000   \n",
       "50%                                    101.800000                78.500000   \n",
       "75%                                    102.600000                80.900000   \n",
       "max                                    142.100000                84.200000   \n",
       "\n",
       "       tax_revenue_country_country  total_tax_rate_country  population_country  \n",
       "count                  2457.000000             2458.000000        2.476000e+03  \n",
       "mean                     12.546235               43.963344        5.102053e+08  \n",
       "std                       5.368625               12.145296        5.542447e+08  \n",
       "min                       0.100000                9.900000        3.801900e+04  \n",
       "25%                       9.600000               36.600000        6.683440e+07  \n",
       "50%                       9.600000               41.200000        3.282395e+08  \n",
       "75%                      12.800000               59.100000        1.366418e+09  \n",
       "max                      37.200000              106.300000        1.397715e+09  "
      ]
     },
     "execution_count": 316,
     "metadata": {},
     "output_type": "execute_result"
    }
   ],
   "source": [
    "billionaires.describe()"
   ]
  },
  {
   "cell_type": "code",
   "execution_count": 317,
   "metadata": {},
   "outputs": [
    {
     "data": {
      "text/html": [
       "<div>\n",
       "<style scoped>\n",
       "    .dataframe tbody tr th:only-of-type {\n",
       "        vertical-align: middle;\n",
       "    }\n",
       "\n",
       "    .dataframe tbody tr th {\n",
       "        vertical-align: top;\n",
       "    }\n",
       "\n",
       "    .dataframe thead th {\n",
       "        text-align: right;\n",
       "    }\n",
       "</style>\n",
       "<table border=\"1\" class=\"dataframe\">\n",
       "  <thead>\n",
       "    <tr style=\"text-align: right;\">\n",
       "      <th></th>\n",
       "      <th>Entity</th>\n",
       "      <th>Code</th>\n",
       "      <th>Year</th>\n",
       "      <th>Gini coefficient</th>\n",
       "    </tr>\n",
       "  </thead>\n",
       "  <tbody>\n",
       "    <tr>\n",
       "      <th>0</th>\n",
       "      <td>Albania</td>\n",
       "      <td>ALB</td>\n",
       "      <td>1996</td>\n",
       "      <td>0.270103</td>\n",
       "    </tr>\n",
       "    <tr>\n",
       "      <th>1</th>\n",
       "      <td>Albania</td>\n",
       "      <td>ALB</td>\n",
       "      <td>2002</td>\n",
       "      <td>0.317390</td>\n",
       "    </tr>\n",
       "    <tr>\n",
       "      <th>2</th>\n",
       "      <td>Albania</td>\n",
       "      <td>ALB</td>\n",
       "      <td>2005</td>\n",
       "      <td>0.305957</td>\n",
       "    </tr>\n",
       "    <tr>\n",
       "      <th>3</th>\n",
       "      <td>Albania</td>\n",
       "      <td>ALB</td>\n",
       "      <td>2008</td>\n",
       "      <td>0.299847</td>\n",
       "    </tr>\n",
       "    <tr>\n",
       "      <th>4</th>\n",
       "      <td>Albania</td>\n",
       "      <td>ALB</td>\n",
       "      <td>2012</td>\n",
       "      <td>0.289605</td>\n",
       "    </tr>\n",
       "  </tbody>\n",
       "</table>\n",
       "</div>"
      ],
      "text/plain": [
       "    Entity Code  Year  Gini coefficient\n",
       "0  Albania  ALB  1996          0.270103\n",
       "1  Albania  ALB  2002          0.317390\n",
       "2  Albania  ALB  2005          0.305957\n",
       "3  Albania  ALB  2008          0.299847\n",
       "4  Albania  ALB  2012          0.289605"
      ]
     },
     "execution_count": 317,
     "metadata": {},
     "output_type": "execute_result"
    }
   ],
   "source": [
    "income_inequality = pd.read_csv(\"economic-inequality-gini-index.csv\")\n",
    "income_inequality.head()"
   ]
  },
  {
   "cell_type": "code",
   "execution_count": 318,
   "metadata": {},
   "outputs": [],
   "source": [
    "# only preserving the most recent year of Gini index data\n",
    "income_inequality = income_inequality.sort_values('Year')\n",
    "income_inequality = income_inequality.groupby('Entity', as_index=False).last()"
   ]
  },
  {
   "cell_type": "code",
   "execution_count": 319,
   "metadata": {},
   "outputs": [],
   "source": [
    "# because Argentina does not have a whole country GINI index\n",
    "income_inequality.loc[income_inequality['Entity'] == 'Argentina - urban', 'Entity'] = 'Argentina'\n",
    "income_inequality.loc[income_inequality['Entity'] == 'Argentina', 'Code'] = 'ARG'"
   ]
  },
  {
   "cell_type": "code",
   "execution_count": 320,
   "metadata": {},
   "outputs": [],
   "source": [
    "# dropping rows that are not complete countries\n",
    "income_inequality = income_inequality[~income_inequality['Entity'].str.contains('rural|urban')]"
   ]
  },
  {
   "cell_type": "code",
   "execution_count": 321,
   "metadata": {},
   "outputs": [
    {
     "data": {
      "text/plain": [
       "(168, 4)"
      ]
     },
     "execution_count": 321,
     "metadata": {},
     "output_type": "execute_result"
    }
   ],
   "source": [
    "income_inequality.shape"
   ]
  },
  {
   "cell_type": "code",
   "execution_count": 322,
   "metadata": {},
   "outputs": [
    {
     "data": {
      "text/html": [
       "<div>\n",
       "<style scoped>\n",
       "    .dataframe tbody tr th:only-of-type {\n",
       "        vertical-align: middle;\n",
       "    }\n",
       "\n",
       "    .dataframe tbody tr th {\n",
       "        vertical-align: top;\n",
       "    }\n",
       "\n",
       "    .dataframe thead th {\n",
       "        text-align: right;\n",
       "    }\n",
       "</style>\n",
       "<table border=\"1\" class=\"dataframe\">\n",
       "  <thead>\n",
       "    <tr style=\"text-align: right;\">\n",
       "      <th></th>\n",
       "      <th>Year</th>\n",
       "      <th>Gini coefficient</th>\n",
       "    </tr>\n",
       "  </thead>\n",
       "  <tbody>\n",
       "    <tr>\n",
       "      <th>count</th>\n",
       "      <td>168.000000</td>\n",
       "      <td>168.000000</td>\n",
       "    </tr>\n",
       "    <tr>\n",
       "      <th>mean</th>\n",
       "      <td>2016.125000</td>\n",
       "      <td>0.374058</td>\n",
       "    </tr>\n",
       "    <tr>\n",
       "      <th>std</th>\n",
       "      <td>4.632853</td>\n",
       "      <td>0.076865</td>\n",
       "    </tr>\n",
       "    <tr>\n",
       "      <th>min</th>\n",
       "      <td>1992.000000</td>\n",
       "      <td>0.232323</td>\n",
       "    </tr>\n",
       "    <tr>\n",
       "      <th>25%</th>\n",
       "      <td>2015.000000</td>\n",
       "      <td>0.320521</td>\n",
       "    </tr>\n",
       "    <tr>\n",
       "      <th>50%</th>\n",
       "      <td>2018.000000</td>\n",
       "      <td>0.360834</td>\n",
       "    </tr>\n",
       "    <tr>\n",
       "      <th>75%</th>\n",
       "      <td>2019.000000</td>\n",
       "      <td>0.418654</td>\n",
       "    </tr>\n",
       "    <tr>\n",
       "      <th>max</th>\n",
       "      <td>2021.000000</td>\n",
       "      <td>0.630261</td>\n",
       "    </tr>\n",
       "  </tbody>\n",
       "</table>\n",
       "</div>"
      ],
      "text/plain": [
       "              Year  Gini coefficient\n",
       "count   168.000000        168.000000\n",
       "mean   2016.125000          0.374058\n",
       "std       4.632853          0.076865\n",
       "min    1992.000000          0.232323\n",
       "25%    2015.000000          0.320521\n",
       "50%    2018.000000          0.360834\n",
       "75%    2019.000000          0.418654\n",
       "max    2021.000000          0.630261"
      ]
     },
     "execution_count": 322,
     "metadata": {},
     "output_type": "execute_result"
    }
   ],
   "source": [
    "income_inequality.describe()"
   ]
  },
  {
   "cell_type": "code",
   "execution_count": 323,
   "metadata": {},
   "outputs": [
    {
     "data": {
      "text/html": [
       "<div>\n",
       "<style scoped>\n",
       "    .dataframe tbody tr th:only-of-type {\n",
       "        vertical-align: middle;\n",
       "    }\n",
       "\n",
       "    .dataframe tbody tr th {\n",
       "        vertical-align: top;\n",
       "    }\n",
       "\n",
       "    .dataframe thead th {\n",
       "        text-align: right;\n",
       "    }\n",
       "</style>\n",
       "<table border=\"1\" class=\"dataframe\">\n",
       "  <thead>\n",
       "    <tr style=\"text-align: right;\">\n",
       "      <th></th>\n",
       "      <th>Economy</th>\n",
       "      <th>Economy Code</th>\n",
       "      <th>participation_rate</th>\n",
       "    </tr>\n",
       "  </thead>\n",
       "  <tbody>\n",
       "    <tr>\n",
       "      <th>0</th>\n",
       "      <td>Aruba</td>\n",
       "      <td>ABW</td>\n",
       "      <td>NaN</td>\n",
       "    </tr>\n",
       "    <tr>\n",
       "      <th>1</th>\n",
       "      <td>Afghanistan</td>\n",
       "      <td>AFG</td>\n",
       "      <td>NaN</td>\n",
       "    </tr>\n",
       "    <tr>\n",
       "      <th>2</th>\n",
       "      <td>Angola</td>\n",
       "      <td>AGO</td>\n",
       "      <td>74.884</td>\n",
       "    </tr>\n",
       "    <tr>\n",
       "      <th>3</th>\n",
       "      <td>Albania</td>\n",
       "      <td>ALB</td>\n",
       "      <td>52.270</td>\n",
       "    </tr>\n",
       "    <tr>\n",
       "      <th>4</th>\n",
       "      <td>Andorra</td>\n",
       "      <td>AND</td>\n",
       "      <td>NaN</td>\n",
       "    </tr>\n",
       "  </tbody>\n",
       "</table>\n",
       "</div>"
      ],
      "text/plain": [
       "       Economy Economy Code  participation_rate\n",
       "0        Aruba          ABW                 NaN\n",
       "1  Afghanistan          AFG                 NaN\n",
       "2       Angola          AGO              74.884\n",
       "3      Albania          ALB              52.270\n",
       "4      Andorra          AND                 NaN"
      ]
     },
     "execution_count": 323,
     "metadata": {},
     "output_type": "execute_result"
    }
   ],
   "source": [
    "labor_force = pd.read_csv(\"Labor Force Participation Rate (2022).csv\")\n",
    "labor_force = labor_force.rename(columns={labor_force.columns[-1]: \"participation_rate\"})\n",
    "labor_force = labor_force.drop(columns=['Year'])\n",
    "labor_force.head()"
   ]
  },
  {
   "cell_type": "markdown",
   "metadata": {},
   "source": [
    "# Cleaning and Preprocessing"
   ]
  },
  {
   "cell_type": "code",
   "execution_count": 324,
   "metadata": {},
   "outputs": [
    {
     "data": {
      "text/plain": [
       "rank                                             0\n",
       "finalWorth                                       0\n",
       "category                                         0\n",
       "personName                                       0\n",
       "age                                             65\n",
       "country                                         38\n",
       "city                                            72\n",
       "industries                                       0\n",
       "countryOfCitizenship                             0\n",
       "selfMade                                         0\n",
       "status                                           0\n",
       "gender                                           0\n",
       "state                                         1887\n",
       "residenceStateRegion                          1893\n",
       "cpi_country                                    184\n",
       "cpi_change_country                             184\n",
       "gdp_country                                    164\n",
       "gross_tertiary_education_enrollment            182\n",
       "gross_primary_education_enrollment_country     181\n",
       "life_expectancy_country                        182\n",
       "tax_revenue_country_country                    183\n",
       "total_tax_rate_country                         182\n",
       "population_country                             164\n",
       "dtype: int64"
      ]
     },
     "execution_count": 324,
     "metadata": {},
     "output_type": "execute_result"
    }
   ],
   "source": [
    "billionaires.isnull().sum()"
   ]
  },
  {
   "cell_type": "code",
   "execution_count": 325,
   "metadata": {},
   "outputs": [],
   "source": [
    "#Correct data types\n",
    "#Convert 'gdp_country' to float, remove dollar signs and commas\n",
    "billionaires['gdp_country'] = billionaires['gdp_country'].replace('[\\$,]', '',\n",
    "                                                                  regex=True).astype(float)"
   ]
  },
  {
   "cell_type": "code",
   "execution_count": 326,
   "metadata": {},
   "outputs": [
    {
     "data": {
      "text/plain": [
       "Entity              0\n",
       "Code                0\n",
       "Year                0\n",
       "Gini coefficient    0\n",
       "dtype: int64"
      ]
     },
     "execution_count": 326,
     "metadata": {},
     "output_type": "execute_result"
    }
   ],
   "source": [
    "income_inequality.isnull().sum()"
   ]
  },
  {
   "cell_type": "code",
   "execution_count": 327,
   "metadata": {},
   "outputs": [
    {
     "data": {
      "text/plain": [
       "Economy                0\n",
       "Economy Code           0\n",
       "participation_rate    34\n",
       "dtype: int64"
      ]
     },
     "execution_count": 327,
     "metadata": {},
     "output_type": "execute_result"
    }
   ],
   "source": [
    "labor_force.isnull().sum()"
   ]
  },
  {
   "cell_type": "code",
   "execution_count": 328,
   "metadata": {},
   "outputs": [],
   "source": [
    "# because we are only looking at one variable here, we can drop all rows with any NA values\n",
    "labor_force.dropna(inplace=True)"
   ]
  },
  {
   "cell_type": "code",
   "execution_count": 329,
   "metadata": {},
   "outputs": [],
   "source": [
    "income_labor = pd.merge(income_inequality, labor_force, left_on='Code', right_on='Economy Code', how='outer')\n"
   ]
  },
  {
   "cell_type": "code",
   "execution_count": 331,
   "metadata": {},
   "outputs": [],
   "source": [
    "# for countries in the labor dataset but not income inequality, fill in country name with economy name\n",
    "income_labor.loc[income_labor['Code'].isnull(), 'Entity'] = income_labor.Economy"
   ]
  },
  {
   "cell_type": "code",
   "execution_count": 333,
   "metadata": {},
   "outputs": [
    {
     "name": "stdout",
     "output_type": "stream",
     "text": [
      "Number of countries that are in 'billionaires' but not in 'income_labor':  12\n"
     ]
    }
   ],
   "source": [
    "# Check the countries in 'billionaires' dataframe that are not in 'income_labor' dataframe\n",
    "not_in_income_labor = billionaires[~billionaires['country'].isin(income_labor['Entity'])]\n",
    "\n",
    "# Number of such countries\n",
    "num_not_in_income_labor = not_in_income_labor['country'].nunique()\n",
    "print(\"Number of countries that are in 'billionaires' but not in 'income_labor': \", num_not_in_income_labor)"
   ]
  },
  {
   "cell_type": "code",
   "execution_count": 163,
   "metadata": {},
   "outputs": [
    {
     "data": {
      "text/plain": [
       "'\\n# Check the countries in \\'income_labor\\' dataframe that are not in \\'billionaires\\' dataframe\\nnot_in_billionaires = income_labor[~income_labor[\\'Country\\'].isin(billionaires[\\'country\\'])]\\n\\n# Number of such countries\\nnum_not_in_billionaires = not_in_billionaires[\\'Country\\'].nunique()\\nprint(\"Number of countries that are in \\'income_labor\\' but not in \\'billionaires\\': \", num_not_in_billionaires)\\n'"
      ]
     },
     "execution_count": 163,
     "metadata": {},
     "output_type": "execute_result"
    }
   ],
   "source": [
    "'''\n",
    "# Check the countries in 'income_labor' dataframe that are not in 'billionaires' dataframe\n",
    "not_in_billionaires = income_labor[~income_labor['Country'].isin(billionaires['country'])]\n",
    "\n",
    "# Number of such countries\n",
    "num_not_in_billionaires = not_in_billionaires['Country'].nunique()\n",
    "print(\"Number of countries that are in 'income_labor' but not in 'billionaires': \", num_not_in_billionaires)\n",
    "'''"
   ]
  },
  {
   "cell_type": "code",
   "execution_count": 290,
   "metadata": {},
   "outputs": [
    {
     "name": "stdout",
     "output_type": "stream",
     "text": [
      "Countries that are in 'billionaires' but not in 'income_labor':\n",
      " ['France' 'United States' 'Mexico' 'India' 'Spain' 'China' 'Canada'\n",
      " 'Germany' 'Switzerland' 'Belgium' 'Hong Kong' 'Austria' 'Japan'\n",
      " 'United Kingdom' 'Australia' 'Indonesia' 'United Arab Emirates' 'Russia'\n",
      " 'Chile' 'Monaco' 'Czech Republic' 'Sweden' 'Thailand' 'Uzbekistan'\n",
      " 'Nigeria' 'Israel' 'Italy' 'South Africa' 'Brazil' 'Malaysia'\n",
      " 'South Korea' 'Philippines' 'Taiwan' 'Norway' 'Egypt' 'Denmark'\n",
      " 'Eswatini (Swaziland)' 'Colombia' 'Netherlands' 'Poland' 'Bahamas'\n",
      " 'Ukraine' 'Cayman Islands' 'Greece' 'Turkey' 'Argentina' 'Georgia'\n",
      " 'Portugal' 'Kazakhstan' 'Algeria' 'Vietnam' 'Latvia' 'Finland' 'Bermuda'\n",
      " 'Luxembourg' 'British Virgin Islands' 'Lebanon' 'Ireland' 'Cyprus'\n",
      " 'Guernsey' 'Liechtenstein' 'Turks and Caicos Islands' 'Romania' 'Uruguay'\n",
      " 'Nepal' 'Slovakia' 'Morocco' 'Hungary' 'Tanzania' 'Peru' 'Andorra'\n",
      " 'Armenia']\n"
     ]
    }
   ],
   "source": [
    "# Get the countries in 'billionaires' dataframe that are not in 'income_labor' dataframe\n",
    "not_in_income_labor = billionaires[~billionaires['country'].isin(income_labor['Country'])]\n",
    "\n",
    "# Print the unique countries\n",
    "print(\"Countries that are in 'billionaires' but not in 'income_labor':\\n\", not_in_income_labor['country'].unique())"
   ]
  },
  {
   "cell_type": "code",
   "execution_count": 165,
   "metadata": {},
   "outputs": [],
   "source": [
    "# changing the names of countries in billionaires to match country names in income_labor\n",
    "british_territories = ['Cayman Islands', 'Bermuda', 'British Virgin Islands', 'Turks and Caicos Islands']\n",
    "\n",
    "billionaires.loc[billionaires['country']=='Russia', 'country'] = 'Russian Federation'\n",
    "billionaires.loc[billionaires['country']=='Czech Republic', 'country'] = 'Czechia'\n",
    "billionaires.loc[billionaires['country']=='Taiwan', 'country'] = 'China'\n",
    "billionaires.loc[billionaires['country']=='Eswatini (Swaziland)', 'country'] = 'Eswatini'\n",
    "billionaires.loc[billionaires['country']=='Vietnam', 'country'] = 'Viet Nam'\n",
    "billionaires.loc[billionaires['country'].isin(british_territories), 'country'] = 'Virgin Islands (U.S.)'\n",
    "billionaires.loc[billionaires['country']=='Guernsey', 'country'] = 'Channel Islands'"
   ]
  },
  {
   "cell_type": "code",
   "execution_count": 166,
   "metadata": {},
   "outputs": [
    {
     "name": "stdout",
     "output_type": "stream",
     "text": [
      "Number of countries that are in 'billionaires' but not in 'income_labor':  0\n"
     ]
    }
   ],
   "source": [
    "# showing that every country in the billionaires dataset now has a valid match in the income_labor dataset\n",
    "not_in_income_labor = billionaires[~billionaires['country'].isin(income_labor['Country'])]\n",
    "\n",
    "num_not_in_income_labor = not_in_income_labor['country'].nunique()\n",
    "print(\"Number of countries that are in 'billionaires' but not in 'income_labor': \", num_not_in_income_labor)"
   ]
  },
  {
   "cell_type": "code",
   "execution_count": 169,
   "metadata": {},
   "outputs": [
    {
     "data": {
      "text/html": [
       "<div>\n",
       "<style scoped>\n",
       "    .dataframe tbody tr th:only-of-type {\n",
       "        vertical-align: middle;\n",
       "    }\n",
       "\n",
       "    .dataframe tbody tr th {\n",
       "        vertical-align: top;\n",
       "    }\n",
       "\n",
       "    .dataframe thead th {\n",
       "        text-align: right;\n",
       "    }\n",
       "</style>\n",
       "<table border=\"1\" class=\"dataframe\">\n",
       "  <thead>\n",
       "    <tr style=\"text-align: right;\">\n",
       "      <th></th>\n",
       "      <th>rank</th>\n",
       "      <th>finalWorth</th>\n",
       "      <th>category</th>\n",
       "      <th>personName</th>\n",
       "      <th>age</th>\n",
       "      <th>country</th>\n",
       "      <th>city</th>\n",
       "      <th>industries</th>\n",
       "      <th>countryOfCitizenship</th>\n",
       "      <th>selfMade</th>\n",
       "      <th>...</th>\n",
       "      <th>ISO3</th>\n",
       "      <th>Continent</th>\n",
       "      <th>Hemisphere</th>\n",
       "      <th>Human Development Groups</th>\n",
       "      <th>UNDP Developing Regions</th>\n",
       "      <th>HDI Rank (2021)</th>\n",
       "      <th>Inequality in income (2021)</th>\n",
       "      <th>Economy</th>\n",
       "      <th>Year</th>\n",
       "      <th>participation_rate</th>\n",
       "    </tr>\n",
       "  </thead>\n",
       "  <tbody>\n",
       "    <tr>\n",
       "      <th>0</th>\n",
       "      <td>1</td>\n",
       "      <td>211000</td>\n",
       "      <td>Fashion &amp; Retail</td>\n",
       "      <td>Bernard Arnault &amp; family</td>\n",
       "      <td>74.0</td>\n",
       "      <td>France</td>\n",
       "      <td>Paris</td>\n",
       "      <td>Fashion &amp; Retail</td>\n",
       "      <td>France</td>\n",
       "      <td>False</td>\n",
       "      <td>...</td>\n",
       "      <td>FRA</td>\n",
       "      <td>Europe</td>\n",
       "      <td>Northern Hemisphere</td>\n",
       "      <td>Very High</td>\n",
       "      <td>NaN</td>\n",
       "      <td>28.0</td>\n",
       "      <td>13.91798</td>\n",
       "      <td>France</td>\n",
       "      <td>2022.0</td>\n",
       "      <td>52.549</td>\n",
       "    </tr>\n",
       "    <tr>\n",
       "      <th>1</th>\n",
       "      <td>2</td>\n",
       "      <td>180000</td>\n",
       "      <td>Automotive</td>\n",
       "      <td>Elon Musk</td>\n",
       "      <td>51.0</td>\n",
       "      <td>United States</td>\n",
       "      <td>Austin</td>\n",
       "      <td>Automotive</td>\n",
       "      <td>United States</td>\n",
       "      <td>True</td>\n",
       "      <td>...</td>\n",
       "      <td>USA</td>\n",
       "      <td>America</td>\n",
       "      <td>Northern Hemisphere</td>\n",
       "      <td>Very High</td>\n",
       "      <td>NaN</td>\n",
       "      <td>21.0</td>\n",
       "      <td>23.22200</td>\n",
       "      <td>United States</td>\n",
       "      <td>2022.0</td>\n",
       "      <td>56.459</td>\n",
       "    </tr>\n",
       "    <tr>\n",
       "      <th>2</th>\n",
       "      <td>3</td>\n",
       "      <td>114000</td>\n",
       "      <td>Technology</td>\n",
       "      <td>Jeff Bezos</td>\n",
       "      <td>59.0</td>\n",
       "      <td>United States</td>\n",
       "      <td>Medina</td>\n",
       "      <td>Technology</td>\n",
       "      <td>United States</td>\n",
       "      <td>True</td>\n",
       "      <td>...</td>\n",
       "      <td>USA</td>\n",
       "      <td>America</td>\n",
       "      <td>Northern Hemisphere</td>\n",
       "      <td>Very High</td>\n",
       "      <td>NaN</td>\n",
       "      <td>21.0</td>\n",
       "      <td>23.22200</td>\n",
       "      <td>United States</td>\n",
       "      <td>2022.0</td>\n",
       "      <td>56.459</td>\n",
       "    </tr>\n",
       "    <tr>\n",
       "      <th>3</th>\n",
       "      <td>4</td>\n",
       "      <td>107000</td>\n",
       "      <td>Technology</td>\n",
       "      <td>Larry Ellison</td>\n",
       "      <td>78.0</td>\n",
       "      <td>United States</td>\n",
       "      <td>Lanai</td>\n",
       "      <td>Technology</td>\n",
       "      <td>United States</td>\n",
       "      <td>True</td>\n",
       "      <td>...</td>\n",
       "      <td>USA</td>\n",
       "      <td>America</td>\n",
       "      <td>Northern Hemisphere</td>\n",
       "      <td>Very High</td>\n",
       "      <td>NaN</td>\n",
       "      <td>21.0</td>\n",
       "      <td>23.22200</td>\n",
       "      <td>United States</td>\n",
       "      <td>2022.0</td>\n",
       "      <td>56.459</td>\n",
       "    </tr>\n",
       "    <tr>\n",
       "      <th>4</th>\n",
       "      <td>5</td>\n",
       "      <td>106000</td>\n",
       "      <td>Finance &amp; Investments</td>\n",
       "      <td>Warren Buffett</td>\n",
       "      <td>92.0</td>\n",
       "      <td>United States</td>\n",
       "      <td>Omaha</td>\n",
       "      <td>Finance &amp; Investments</td>\n",
       "      <td>United States</td>\n",
       "      <td>True</td>\n",
       "      <td>...</td>\n",
       "      <td>USA</td>\n",
       "      <td>America</td>\n",
       "      <td>Northern Hemisphere</td>\n",
       "      <td>Very High</td>\n",
       "      <td>NaN</td>\n",
       "      <td>21.0</td>\n",
       "      <td>23.22200</td>\n",
       "      <td>United States</td>\n",
       "      <td>2022.0</td>\n",
       "      <td>56.459</td>\n",
       "    </tr>\n",
       "  </tbody>\n",
       "</table>\n",
       "<p>5 rows × 33 columns</p>\n",
       "</div>"
      ],
      "text/plain": [
       "   rank  finalWorth               category                personName   age  \\\n",
       "0     1      211000       Fashion & Retail  Bernard Arnault & family  74.0   \n",
       "1     2      180000             Automotive                 Elon Musk  51.0   \n",
       "2     3      114000             Technology                Jeff Bezos  59.0   \n",
       "3     4      107000             Technology             Larry Ellison  78.0   \n",
       "4     5      106000  Finance & Investments            Warren Buffett  92.0   \n",
       "\n",
       "         country    city             industries countryOfCitizenship  \\\n",
       "0         France   Paris       Fashion & Retail               France   \n",
       "1  United States  Austin             Automotive        United States   \n",
       "2  United States  Medina             Technology        United States   \n",
       "3  United States   Lanai             Technology        United States   \n",
       "4  United States   Omaha  Finance & Investments        United States   \n",
       "\n",
       "   selfMade  ... ISO3 Continent           Hemisphere Human Development Groups  \\\n",
       "0     False  ...  FRA    Europe  Northern Hemisphere                Very High   \n",
       "1      True  ...  USA   America  Northern Hemisphere                Very High   \n",
       "2      True  ...  USA   America  Northern Hemisphere                Very High   \n",
       "3      True  ...  USA   America  Northern Hemisphere                Very High   \n",
       "4      True  ...  USA   America  Northern Hemisphere                Very High   \n",
       "\n",
       "   UNDP Developing Regions  HDI Rank (2021)  Inequality in income (2021)  \\\n",
       "0                      NaN             28.0                     13.91798   \n",
       "1                      NaN             21.0                     23.22200   \n",
       "2                      NaN             21.0                     23.22200   \n",
       "3                      NaN             21.0                     23.22200   \n",
       "4                      NaN             21.0                     23.22200   \n",
       "\n",
       "         Economy    Year  participation_rate  \n",
       "0         France  2022.0              52.549  \n",
       "1  United States  2022.0              56.459  \n",
       "2  United States  2022.0              56.459  \n",
       "3  United States  2022.0              56.459  \n",
       "4  United States  2022.0              56.459  \n",
       "\n",
       "[5 rows x 33 columns]"
      ]
     },
     "execution_count": 169,
     "metadata": {},
     "output_type": "execute_result"
    }
   ],
   "source": [
    "final_df = pd.merge(billionaires, income_labor, left_on='country', right_on='Country', how='left')\n",
    "final_df.drop(columns=['Country', 'Economy Code'], inplace=True) # might also want to drop ISO3 and economy code\n",
    "final_df.head()"
   ]
  },
  {
   "cell_type": "code",
   "execution_count": 211,
   "metadata": {},
   "outputs": [],
   "source": [
    "final_df.rename(columns={'Inequality in income (2021)': 'income_inequality', 'HDI Rank (2021)': 'HDI'}, inplace=True)"
   ]
  },
  {
   "cell_type": "code",
   "execution_count": 216,
   "metadata": {},
   "outputs": [
    {
     "data": {
      "text/plain": [
       "(2640, 33)"
      ]
     },
     "execution_count": 216,
     "metadata": {},
     "output_type": "execute_result"
    }
   ],
   "source": [
    "final_df.shape"
   ]
  },
  {
   "cell_type": "markdown",
   "metadata": {},
   "source": [
    "I. Demographic analysis"
   ]
  },
  {
   "cell_type": "markdown",
   "metadata": {},
   "source": [
    "1. Age Analysis"
   ]
  },
  {
   "cell_type": "code",
   "execution_count": 189,
   "metadata": {},
   "outputs": [
    {
     "name": "stdout",
     "output_type": "stream",
     "text": [
      "count    2575.000000\n",
      "mean       65.140194\n",
      "std        13.258098\n",
      "min        18.000000\n",
      "25%        56.000000\n",
      "50%        65.000000\n",
      "75%        75.000000\n",
      "max       101.000000\n",
      "Name: age, dtype: float64\n"
     ]
    },
    {
     "data": {
      "image/png": "[encoded data removed]",
      "text/plain": [
       "<Figure size 1000x600 with 1 Axes>"
      ]
     },
     "metadata": {},
     "output_type": "display_data"
    }
   ],
   "source": [
    "print(final_df['age'].describe())\n",
    "\n",
    "plt.figure(figsize=(10, 6))\n",
    "sns.histplot(final_df['age'].dropna(), kde=False, color='skyblue', binwidth=5)\n",
    "plt.title('Age Distribution of Billionaires')\n",
    "plt.xlabel('Age')\n",
    "plt.ylabel('Count')\n",
    "plt.show()"
   ]
  },
  {
   "cell_type": "markdown",
   "metadata": {},
   "source": [
    "2. Gender"
   ]
  },
  {
   "cell_type": "code",
   "execution_count": 194,
   "metadata": {},
   "outputs": [
    {
     "name": "stdout",
     "output_type": "stream",
     "text": [
      "gender\n",
      "M    2303\n",
      "F     337\n",
      "Name: count, dtype: int64\n"
     ]
    },
    {
     "data": {
      "image/png": "[encoded data removed]",
      "text/plain": [
       "<Figure size 1000x600 with 1 Axes>"
      ]
     },
     "metadata": {},
     "output_type": "display_data"
    }
   ],
   "source": [
    "print(final_df['gender'].value_counts())\n",
    "\n",
    "plt.figure(figsize=(10, 6))\n",
    "sns.countplot(x='gender', data=final_df, palette='pastel')\n",
    "plt.title('Gender Distribution of Billionaires')\n",
    "plt.xlabel('Gender')\n",
    "plt.ylabel('Count')\n",
    "plt.show()"
   ]
  },
  {
   "cell_type": "markdown",
   "metadata": {},
   "source": [
    "3. Industry"
   ]
  },
  {
   "cell_type": "code",
   "execution_count": 195,
   "metadata": {},
   "outputs": [
    {
     "name": "stdout",
     "output_type": "stream",
     "text": [
      "industries\n",
      "Finance & Investments         372\n",
      "Manufacturing                 324\n",
      "Technology                    314\n",
      "Fashion & Retail              266\n",
      "Food & Beverage               212\n",
      "Healthcare                    201\n",
      "Real Estate                   193\n",
      "Diversified                   187\n",
      "Energy                        100\n",
      "Media & Entertainment          91\n",
      "Metals & Mining                74\n",
      "Automotive                     73\n",
      "Service                        53\n",
      "Construction & Engineering     45\n",
      "Logistics                      40\n",
      "Sports                         39\n",
      "Telecom                        31\n",
      "Gambling & Casinos             25\n",
      "Name: count, dtype: int64\n"
     ]
    },
    {
     "data": {
      "image/png": "[encoded data removed]",
      "text/plain": [
       "<Figure size 1000x600 with 1 Axes>"
      ]
     },
     "metadata": {},
     "output_type": "display_data"
    }
   ],
   "source": [
    "print(final_df['industries'].value_counts())\n",
    "\n",
    "plt.figure(figsize=(10, 6))\n",
    "top_categories = billionaires['industries'].value_counts().head(10)\n",
    "sns.barplot(x=top_categories.values, y=top_categories.index, palette='coolwarm')\n",
    "plt.title('Top 10 Industries/Categories of Billionaires')\n",
    "plt.xlabel('Number of Billionaires')\n",
    "plt.ylabel('Industry/Category')\n",
    "plt.show()"
   ]
  },
  {
   "cell_type": "markdown",
   "metadata": {},
   "source": [
    "4. Wealth"
   ]
  },
  {
   "cell_type": "code",
   "execution_count": 76,
   "metadata": {},
   "outputs": [
    {
     "name": "stdout",
     "output_type": "stream",
     "text": [
      "count      2341.000000\n",
      "mean       4746.262281\n",
      "std       10315.055377\n",
      "min        1000.000000\n",
      "25%        1500.000000\n",
      "50%        2400.000000\n",
      "75%        4300.000000\n",
      "max      211000.000000\n",
      "Name: finalWorth, dtype: float64\n"
     ]
    },
    {
     "name": "stderr",
     "output_type": "stream",
     "text": [
      "/Users/erinzhan/SI618/.venv/lib/python3.11/site-packages/seaborn/_oldcore.py:1498: FutureWarning: is_categorical_dtype is deprecated and will be removed in a future version. Use isinstance(dtype, CategoricalDtype) instead\n",
      "  if pd.api.types.is_categorical_dtype(vector):\n"
     ]
    },
    {
     "data": {
      "image/png": "[encoded data removed]",
      "text/plain": [
       "<Figure size 1000x600 with 1 Axes>"
      ]
     },
     "metadata": {},
     "output_type": "display_data"
    }
   ],
   "source": [
    "print(final_df['finalWorth'].describe())\n",
    "\n",
    "plt.figure(figsize=(10, 6))\n",
    "sns.boxplot(x=final_df['finalWorth'])\n",
    "plt.title('Boxplot of Wealth Distribution')\n",
    "plt.xlabel('Wealth (in billion $)')\n",
    "plt.show()"
   ]
  },
  {
   "cell_type": "markdown",
   "metadata": {},
   "source": [
    "5. Geographic distribution"
   ]
  },
  {
   "cell_type": "code",
   "execution_count": 77,
   "metadata": {},
   "outputs": [
    {
     "name": "stdout",
     "output_type": "stream",
     "text": [
      "country\n",
      "United States     754\n",
      "China             523\n",
      "India             157\n",
      "Germany           102\n",
      "United Kingdom     82\n",
      "                 ... \n",
      "Algeria             1\n",
      "Latvia              1\n",
      "Oman                1\n",
      "Luxembourg          1\n",
      "Armenia             1\n",
      "Name: count, Length: 67, dtype: int64\n"
     ]
    },
    {
     "name": "stderr",
     "output_type": "stream",
     "text": [
      "/Users/erinzhan/SI618/.venv/lib/python3.11/site-packages/seaborn/_oldcore.py:1498: FutureWarning: is_categorical_dtype is deprecated and will be removed in a future version. Use isinstance(dtype, CategoricalDtype) instead\n",
      "  if pd.api.types.is_categorical_dtype(vector):\n",
      "/Users/erinzhan/SI618/.venv/lib/python3.11/site-packages/seaborn/_oldcore.py:1498: FutureWarning: is_categorical_dtype is deprecated and will be removed in a future version. Use isinstance(dtype, CategoricalDtype) instead\n",
      "  if pd.api.types.is_categorical_dtype(vector):\n",
      "/Users/erinzhan/SI618/.venv/lib/python3.11/site-packages/seaborn/_oldcore.py:1498: FutureWarning: is_categorical_dtype is deprecated and will be removed in a future version. Use isinstance(dtype, CategoricalDtype) instead\n",
      "  if pd.api.types.is_categorical_dtype(vector):\n"
     ]
    },
    {
     "data": {
      "image/png": "[encoded data removed]",
      "text/plain": [
       "<Figure size 1000x600 with 1 Axes>"
      ]
     },
     "metadata": {},
     "output_type": "display_data"
    }
   ],
   "source": [
    "print(final_df['country'].value_counts())\n",
    "\n",
    "plt.figure(figsize=(10, 6))\n",
    "top_countries = billionaires['country'].value_counts().head(10)\n",
    "sns.barplot(x=top_countries.values, y=top_countries.index, palette='viridis')\n",
    "plt.title('Top 10 Countries with Most Billionaires')\n",
    "plt.xlabel('Number of Billionaires')\n",
    "plt.ylabel('Country')\n",
    "plt.show()"
   ]
  },
  {
   "cell_type": "markdown",
   "metadata": {},
   "source": [
    "II. Economic Indicator"
   ]
  },
  {
   "cell_type": "code",
   "execution_count": 86,
   "metadata": {},
   "outputs": [
    {
     "data": {
      "image/png": "[encoded data removed]",
      "text/plain": [
       "<Figure size 1000x600 with 2 Axes>"
      ]
     },
     "metadata": {},
     "output_type": "display_data"
    }
   ],
   "source": [
    "#Explore how finalWorth correlates with various economic indicators like gdp_country and total_tax_rate_country\n",
    "\n",
    "\n",
    "data = final_df[['finalWorth', 'gdp_country', 'total_tax_rate_country', 'cpi_country']]\n",
    "corr_matrix = data.corr()\n",
    "\n",
    "plt.figure(figsize=(10, 6))\n",
    "sns.heatmap(corr_matrix, annot=True, cmap='coolwarm')\n",
    "plt.title('Correlation Matrix of Wealth and Economic Indicators')\n",
    "plt.show()\n"
   ]
  },
  {
   "cell_type": "markdown",
   "metadata": {},
   "source": [
    "# Wealth Origins"
   ]
  },
  {
   "cell_type": "code",
   "execution_count": 213,
   "metadata": {},
   "outputs": [
    {
     "data": {
      "text/plain": [
       "count    2539.000000\n",
       "mean       22.246191\n",
       "std         5.649285\n",
       "min         8.524723\n",
       "25%        17.969590\n",
       "50%        23.222000\n",
       "75%        27.391000\n",
       "max        56.996000\n",
       "Name: income_inequality, dtype: float64"
      ]
     },
     "execution_count": 213,
     "metadata": {},
     "output_type": "execute_result"
    }
   ],
   "source": [
    "final_df.income_inequality.describe()"
   ]
  },
  {
   "cell_type": "code",
   "execution_count": 214,
   "metadata": {},
   "outputs": [
    {
     "data": {
      "text/plain": [
       "101"
      ]
     },
     "execution_count": 214,
     "metadata": {},
     "output_type": "execute_result"
    }
   ],
   "source": [
    "final_df.income_inequality.isnull().sum()"
   ]
  },
  {
   "cell_type": "markdown",
   "metadata": {},
   "source": [
    "# Gender Disparities"
   ]
  },
  {
   "cell_type": "code",
   "execution_count": 208,
   "metadata": {},
   "outputs": [
    {
     "data": {
      "image/png": "[encoded data removed]",
      "text/plain": [
       "<Figure size 2000x600 with 2 Axes>"
      ]
     },
     "metadata": {},
     "output_type": "display_data"
    }
   ],
   "source": [
    "# Create new dataframe with top industries only\n",
    "top_industries = final_df['industries'].value_counts().head(10).index.tolist()\n",
    "filtered_df = final_df[final_df['industries'].isin(top_industries)]\n",
    "\n",
    "# Separate dataframes for males and females\n",
    "male_df = filtered_df[filtered_df['gender'] == 'M']\n",
    "female_df = filtered_df[filtered_df['gender'] == 'F']\n",
    "\n",
    "# Start plotting\n",
    "fig, axs = plt.subplots(ncols=2, figsize=(20, 6))\n",
    "\n",
    "# Find the order to plot\n",
    "male_order = male_df['industries'].value_counts().index\n",
    "female_order = female_df['industries'].value_counts().index\n",
    "\n",
    "# Plot for males\n",
    "sns.countplot(data=male_df, y='industries', color='blue', ax=axs[0], order=male_order)\n",
    "axs[0].set_title('Male')\n",
    "axs[0].set_xlabel('Count')\n",
    "axs[0].set_ylabel('Industries')\n",
    "\n",
    "# Plot for females\n",
    "sns.countplot(data=female_df, y='industries', color='orange', ax=axs[1], order=female_order)\n",
    "axs[1].set_title('Female')\n",
    "axs[1].set_xlabel('Count')\n",
    "axs[1].set_ylabel('')\n",
    "\n",
    "# Show the plot\n",
    "plt.tight_layout()\n",
    "plt.show()"
   ]
  }
 ],
 "metadata": {
  "kernelspec": {
   "display_name": "Python 3.11.3 ('.venv': venv)",
   "language": "python",
   "name": "python3"
  },
  "language_info": {
   "codemirror_mode": {
    "name": "ipython",
    "version": 3
   },
   "file_extension": ".py",
   "mimetype": "text/x-python",
   "name": "python",
   "nbconvert_exporter": "python",
   "pygments_lexer": "ipython3",
   "version": "3.10.6"
  },
  "orig_nbformat": 4,
  "vscode": {
   "interpreter": {
    "hash": "4c88a6f43f8e2e1d0c3520687c09c1d66cb0e113ba0f2ab9d3adab08a05c213f"
   }
  }
 },
 "nbformat": 4,
 "nbformat_minor": 2
}
